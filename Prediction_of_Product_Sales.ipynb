{
  "nbformat": 4,
  "nbformat_minor": 0,
  "metadata": {
    "colab": {
      "provenance": []
    },
    "kernelspec": {
      "name": "python3",
      "display_name": "Python 3"
    },
    "language_info": {
      "name": "python"
    }
  },
  "cells": [
    {
      "cell_type": "code",
      "execution_count": null,
      "metadata": {
        "id": "ztPwad1Gt85C"
      },
      "outputs": [],
      "source": []
    },
    {
      "cell_type": "markdown",
      "source": [
        "#Project Title: **PREDICTION OF PRODUCT SALES**"
      ],
      "metadata": {
        "id": "5Zxm6q9BuF3l"
      }
    },
    {
      "cell_type": "markdown",
      "source": [
        "- Author: Katende Ukasha Ndugwa"
      ],
      "metadata": {
        "id": "610RPiOsvE4W"
      }
    },
    {
      "cell_type": "markdown",
      "source": [
        "##Project Overview"
      ],
      "metadata": {
        "id": "X6ytRT6bvGZx"
      }
    },
    {
      "cell_type": "markdown",
      "source": [
        "##Load and Inspect Data"
      ],
      "metadata": {
        "id": "7IWBH22ivT9L"
      }
    },
    {
      "cell_type": "code",
      "source": [],
      "metadata": {
        "id": "xG2it357v7-2"
      },
      "execution_count": null,
      "outputs": []
    },
    {
      "cell_type": "markdown",
      "source": [
        "##Clean Data"
      ],
      "metadata": {
        "id": "MQgGEI89vRt_"
      }
    },
    {
      "cell_type": "code",
      "source": [],
      "metadata": {
        "id": "aqu6Qdutv9yy"
      },
      "execution_count": null,
      "outputs": []
    },
    {
      "cell_type": "markdown",
      "source": [
        "##Exploratory Data Analysis"
      ],
      "metadata": {
        "id": "SswNgpWEvXaG"
      }
    },
    {
      "cell_type": "code",
      "source": [],
      "metadata": {
        "id": "q8P2f5ulv_QV"
      },
      "execution_count": null,
      "outputs": []
    },
    {
      "cell_type": "markdown",
      "source": [
        "##Feature Inspection"
      ],
      "metadata": {
        "id": "dptmuXbqvmeV"
      }
    },
    {
      "cell_type": "code",
      "source": [],
      "metadata": {
        "id": "k6lqc8pwwAg7"
      },
      "execution_count": null,
      "outputs": []
    }
  ]
}