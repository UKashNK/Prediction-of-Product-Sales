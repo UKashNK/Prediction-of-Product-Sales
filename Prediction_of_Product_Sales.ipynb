{
  "nbformat": 4,
  "nbformat_minor": 0,
  "metadata": {
    "colab": {
      "provenance": [],
      "authorship_tag": "ABX9TyMu0wyHJjqFkM5/3ZNRN6AK",
      "include_colab_link": true
    },
    "kernelspec": {
      "name": "python3",
      "display_name": "Python 3"
    },
    "language_info": {
      "name": "python"
    }
  },
  "cells": [
    {
      "cell_type": "markdown",
      "metadata": {
        "id": "view-in-github",
        "colab_type": "text"
      },
      "source": [
        "<a href=\"https://colab.research.google.com/github/UKashNK/Prediction-of-Product-Sales/blob/main/Prediction_of_Product_Sales.ipynb\" target=\"_parent\"><img src=\"https://colab.research.google.com/assets/colab-badge.svg\" alt=\"Open In Colab\"/></a>"
      ]
    },
    {
      "cell_type": "markdown",
      "source": [
        "#Project Title: **PREDICTION OF PRODUCT SALES**"
      ],
      "metadata": {
        "id": "5Zxm6q9BuF3l"
      }
    },
    {
      "cell_type": "markdown",
      "source": [
        "- Author: Katende Ukasha Ndugwa"
      ],
      "metadata": {
        "id": "610RPiOsvE4W"
      }
    },
    {
      "cell_type": "markdown",
      "source": [
        "##Project Overview"
      ],
      "metadata": {
        "id": "X6ytRT6bvGZx"
      }
    },
    {
      "cell_type": "markdown",
      "source": [
        "##Load and Inspect Data"
      ],
      "metadata": {
        "id": "7IWBH22ivT9L"
      }
    },
    {
      "cell_type": "code",
      "source": [],
      "metadata": {
        "id": "xG2it357v7-2"
      },
      "execution_count": null,
      "outputs": []
    },
    {
      "cell_type": "markdown",
      "source": [
        "##Clean Data"
      ],
      "metadata": {
        "id": "MQgGEI89vRt_"
      }
    },
    {
      "cell_type": "code",
      "source": [],
      "metadata": {
        "id": "aqu6Qdutv9yy"
      },
      "execution_count": null,
      "outputs": []
    },
    {
      "cell_type": "markdown",
      "source": [
        "##Exploratory Data Analysis"
      ],
      "metadata": {
        "id": "SswNgpWEvXaG"
      }
    },
    {
      "cell_type": "code",
      "source": [],
      "metadata": {
        "id": "q8P2f5ulv_QV"
      },
      "execution_count": null,
      "outputs": []
    },
    {
      "cell_type": "markdown",
      "source": [
        "##Feature Inspection"
      ],
      "metadata": {
        "id": "dptmuXbqvmeV"
      }
    },
    {
      "cell_type": "code",
      "source": [],
      "metadata": {
        "id": "k6lqc8pwwAg7"
      },
      "execution_count": null,
      "outputs": []
    }
  ]
}